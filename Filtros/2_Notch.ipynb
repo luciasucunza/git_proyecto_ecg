{
 "cells": [
  {
   "cell_type": "markdown",
   "metadata": {},
   "source": [
    "# 2_Funciones IIR: iirnotch"
   ]
  },
  {
   "cell_type": "code",
   "execution_count": null,
   "metadata": {},
   "outputs": [],
   "source": [
    "import wfdb\n",
    "import matplotlib.pyplot as plt\n",
    "import numpy as np\n",
    "import scipy.signal as sig\n",
    "\n",
    "\n",
    "n = 10000\n",
    "\n",
    "signals, fields = wfdb.io.rdsamp('101', pb_dir='mitdb',sampfrom = 0, sampto = n)\n",
    "\n",
    "\n",
    "ecg_one_lead = signals[:,0]\n",
    "fs = fields.get('fs')\n",
    "wo = 60 / (fs/2)\n",
    "nyq_frec = fs / 2\n",
    "Q = 100\n",
    "t = np.arange(0,n/fs,1/fs)\n",
    "    \n",
    "b,a = sig.iirnotch(wo,Q)\n",
    "ecg_f_notch = sig.lfilter(b,a,ecg_one_lead)\n",
    "\n",
    "\n",
    "plt.figure(1)\n",
    "plt.title('Señales')\n",
    "#plt.subplot(211)\n",
    "plt.plot(t, ecg_f_notch,  label='Notch')\n",
    "#plt.subplot(212)\n",
    "plt.plot(t, ecg_one_lead,  label='Sin Filtrar')\n",
    "plt.grid()\n",
    "plt.legend()\n",
    "plt.show()\n",
    "\n",
    "\n",
    "resf = fs/n                                 \n",
    "rangof = np.arange( 0, 360 , resf)         \n",
    "\n",
    "FFT_ecg_one_lead = np.fft.fft( ecg_one_lead )\n",
    "FFT_ecg_f_notch = np.fft.fft( ecg_f_notch )  \n",
    "\n",
    "FFT_ecg_one_lead = abs( FFT_ecg_one_lead[range(n//2)]    ) / (n//2) \n",
    "FFT_ecg_f_notch = abs( FFT_ecg_f_notch[range(n//2)]    ) / (n//2) \n",
    "rangof = rangof[range(n//2)]     \n",
    "\n",
    "plt.figure(2)\n",
    "plt.title('FFT de las señales')\n",
    "plt.plot(rangof, FFT_ecg_one_lead, label='Sin Filtrar')\n",
    "plt.plot(rangof, FFT_ecg_f_notch,  label='Notch')\n",
    "plt.grid()\n",
    "plt.legend()\n",
    "plt.show()\n",
    "\n",
    "w,h = sig.freqz(b,a)\n",
    "\n",
    "plt.figure(3)\n",
    "plt.title('Respuesta del Filtro')\n",
    "plt.subplot(211)\n",
    "plt.plot(w*nyq_frec/np.pi,abs(h))\n",
    "plt.grid()\n",
    "plt.ylabel('Modulo')\n",
    "plt.subplot(212)\n",
    "plt.plot(w*nyq_frec/np.pi, np.arctan(h.imag/h.real))\n",
    "plt.grid()\n",
    "plt.ylabel('Fase')\n",
    "plt.show()"
   ]
  }
 ],
 "metadata": {
  "kernelspec": {
   "display_name": "Python 3",
   "language": "python",
   "name": "python3"
  },
  "language_info": {
   "codemirror_mode": {
    "name": "ipython",
    "version": 3
   },
   "file_extension": ".py",
   "mimetype": "text/x-python",
   "name": "python",
   "nbconvert_exporter": "python",
   "pygments_lexer": "ipython3",
   "version": "3.6.6"
  }
 },
 "nbformat": 4,
 "nbformat_minor": 2
}
