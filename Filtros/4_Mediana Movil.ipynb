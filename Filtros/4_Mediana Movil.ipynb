{
 "cells": [
  {
   "cell_type": "markdown",
   "metadata": {},
   "source": [
    "# 4_Filtros: Mediana Movil"
   ]
  },
  {
   "cell_type": "code",
   "execution_count": null,
   "metadata": {},
   "outputs": [],
   "source": [
    "# MÃ³dulos importantantes\n",
    "import numpy as np\n",
    "import matplotlib.pyplot as plt\n",
    "import scipy.io as sio\n",
    "import scipy.signal as sig\n",
    "\n",
    "#%%\n",
    "mat_struct = sio.loadmat('/home/luciasucunza/git_proyecto_ecg/EjemplosFiltros/TP4_ecg.mat')\n",
    "\n",
    "ecg_one_lead = mat_struct['ecg_lead']\n",
    "ecg_one_lead = ecg_one_lead.flatten(1)\n",
    "cant_muestras = len(ecg_one_lead)\n",
    "\n",
    "fs = 1000 \n",
    "nyq_frec = fs / 2\n",
    "t = np.arange(cant_muestras) / fs\n",
    "\n",
    "c_muestras_zoom = 60000\n",
    "\n",
    "zoom_region     = np.arange(0, c_muestras_zoom , 1)\n",
    "ecg_zoom        = ecg_one_lead[zoom_region]\n",
    "t_zoom          = t[zoom_region]\n",
    "\n",
    "#%%\n",
    "baseline = sig.medfilt (ecg_zoom, kernel_size = int (np.around(fs*0.5*0.2)    *2 +1  ))\n",
    "baseline = sig.medfilt (baseline, kernel_size = int (np.around(fs*0.5*0.6)    *2 +1  )) \n",
    "baseline = sig.medfilt (baseline, kernel_size = int (np.around(fs*0.5*(1/50)) *2 +1  ))\n",
    "\n",
    "plt.figure(1)\n",
    "plt.title('Señales')\n",
    "plt.plot(t_zoom, ecg_zoom,  label='ECG')\n",
    "plt.plot(t_zoom, baseline,  label='Baseline')\n",
    "plt.grid()\n",
    "plt.legend()\n",
    "plt.show()\n",
    "\n",
    "#%%\n",
    "ecg_F = ecg_zoom - baseline\n",
    "\n",
    "plt.figure(2)\n",
    "plt.title('Señales')\n",
    "plt.plot(t_zoom, ecg_zoom,  label='ECG sin flitrar')\n",
    "plt.plot(t_zoom, ecg_F,     label='ECG flitrarado')\n",
    "plt.grid()\n",
    "plt.legend()\n",
    "plt.show()\n",
    "\n",
    "#%%\n",
    "\n",
    "\n",
    "#Calculo auxiliar para ver la componente, 50Hz\n",
    "resf = fs/c_muestras_zoom                           #Resolucion\n",
    "rangof = np.arange( 0, fs , resf)         #Rango de frecuencias\n",
    "F_ecg_zoom = np.fft.fft( ecg_zoom )              #fft\n",
    "F_ecg_zoom =  abs(F_ecg_zoom)/(c_muestras_zoom) \n",
    "plt.figure(1)\n",
    "plt.plot( rangof, F_ecg_zoom  , 'g' )\n",
    "plt.title( 'Espectro Normalizado' )\n",
    "plt.grid(True)\n",
    "plt.xlim( -0.2, 70 )\n",
    "plt.show() "
   ]
  }
 ],
 "metadata": {
  "kernelspec": {
   "display_name": "Python 3",
   "language": "python",
   "name": "python3"
  },
  "language_info": {
   "codemirror_mode": {
    "name": "ipython",
    "version": 3
   },
   "file_extension": ".py",
   "mimetype": "text/x-python",
   "name": "python",
   "nbconvert_exporter": "python",
   "pygments_lexer": "ipython3",
   "version": "3.6.6"
  }
 },
 "nbformat": 4,
 "nbformat_minor": 2
}
