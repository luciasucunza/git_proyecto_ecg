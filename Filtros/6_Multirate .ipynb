{
 "cells": [
  {
   "cell_type": "markdown",
   "metadata": {},
   "source": [
    "# 6_Filtros: Multirate "
   ]
  },
  {
   "cell_type": "markdown",
   "metadata": {},
   "source": [
    "Para poder mejorar la velocidad de procesamiento y disminuir el costo computacional de realizar un filtrado mediante la sustracción de la linea de base estimada con el método de mediana móvil desarrollado en el script anterior se aplica la técnica de Multirate. Esta técnica consiste en resamplear la señal a una frecuencia menor, para la elección de esta frecuencia hay que tener en cuenta el rango de frecuencias en el que se encuentra la linea de base. Este rango se puede obtener por ejemplo del cálculo del espectro en frecuencia de la estimación realizada en el 4_. Vamos a elegir como nueva frecuencia 25Hz, ya que es un diezmado suficiente, podría ser menor pero así se logra una buena reducción del costo computacional a la hora de realizar el método de mediana móvil, sin acomplejar demasiado el procesamiento para llevar a cabo la técnica de Multirate y manteniendo una buena estimación de la señal.\n",
    "\n",
    "La frecuencia de muestreo de la señal que se utliza de ejemplo es 1000Hz, por lo tanto el factor diezmado es 40. Es aconsejable en los casos donde el factor de diezmado es mayor a 10 dividir el problema en etapas, por ejemplo un de 10 y una de 4, o una de 5 y otra de 8\n"
   ]
  },
  {
   "cell_type": "code",
   "execution_count": 2,
   "metadata": {},
   "outputs": [],
   "source": [
    "#------Modulos-------\n",
    "import warnings\n",
    "warnings.filterwarnings('ignore')\n",
    "\n",
    "import numpy as np\n",
    "import scipy.io as sio\n",
    "import scipy.signal as sig\n",
    "import scipy.interpolate as interpol\n",
    "import time\n",
    "\n",
    "import paquete.moduloSeñales as myS\n",
    "import paquete.moduloFiltrado as myF\n",
    "\n",
    "import matplotlib as mpl\n",
    "import matplotlib.pyplot as plt\n",
    "from pandas import DataFrame\n",
    "from IPython.display import HTML\n",
    "mpl.rcParams['figure.figsize'] = (15,12)    "
   ]
  },
  {
   "cell_type": "code",
   "execution_count": 3,
   "metadata": {},
   "outputs": [],
   "source": [
    "#------Apertura-------\n",
    "ecg_one_lead, cant_muestras, fs, nyq_frec, _ = myS.obtenerSeñal('/home/luciasucunza/git_proyecto_ecg/Filtros/TP4_ecg.mat')\n",
    "t        = np.arange(cant_muestras) / fs\n"
   ]
  },
  {
   "cell_type": "code",
   "execution_count": 4,
   "metadata": {},
   "outputs": [],
   "source": [
    "#------Parametros de Diezmado-------\n",
    "f_B         = 7\n",
    "\n",
    "fs_old_1    = fs\n",
    "fs_new_1    = 100\n",
    "nyq_frec_1  = fs_old_1/2\n",
    "\n",
    "fs_old_2    = fs_new_1\n",
    "fs_new_2    = 25\n",
    "nyq_frec_2  = fs_old_2/2\n",
    "\n",
    "fs_old_3    = fs_new_2\n",
    "fs_new_3    = fs_old_1\n",
    "nyq_frec_3  = fs_old_3/2\n",
    "\n",
    "\n",
    "D   = int(fs_old_1 / fs_new_2)\n",
    "D1  = int(fs_old_1 / fs_new_1)\n",
    "D2  = int(fs_old_2 / fs_new_2)"
   ]
  },
  {
   "cell_type": "code",
   "execution_count": 5,
   "metadata": {},
   "outputs": [],
   "source": [
    "#------Diseños de Filtros-------\n",
    "\n",
    "#------LPF 10-------\n",
    "wpb_p_1         = f_B               #Hz\n",
    "wpb_s_1         = fs_new_1/2        #Hz\n",
    "cant_coef_1     = 151\n",
    "\n",
    "fir_coeff_pb_1 = myF.diseñoPB( fs, wpb_p_1, wpb_s_1, cant_coef_1)\n",
    "\n",
    "#------LPF 4-------\n",
    "wpb_p_2         = f_B           #Hz\n",
    "wpb_s_2         = fs_new_2/2    #Hz\n",
    "cant_coef_2     = 41\n",
    "\n",
    "fir_coeff_pb_2 = myF.diseñoPB( fs, wpb_p_2, wpb_s_2, cant_coef_2)"
   ]
  },
  {
   "cell_type": "code",
   "execution_count": 6,
   "metadata": {},
   "outputs": [],
   "source": [
    "#------Primer Filtrado-------\n",
    "ECG_Filt_1 = sig.lfilter(fir_coeff_pb_1, 1, ecg_one_lead)\n",
    "\n",
    "#------LPF 10-------\n",
    "ECG_Diez_1 = np.zeros(int(cant_muestras/D1), dtype=float)\n",
    "\n",
    "for i in range(int(cant_muestras/D1)) :\n",
    "        ECG_Diez_1[i] = ECG_Filt_1[i*D1]\n",
    "\n",
    "#------Segundo Filtrado-------\n",
    "ECG_Filt_2 = sig.lfilter(fir_coeff_pb_2, 1, ECG_Filt_1)\n",
    "\n",
    "#------LPF 4-------\n",
    "ECG_Diez_2 = np.zeros(int(cant_muestras/D), dtype=float)\n",
    "\n",
    "for i in range(int(cant_muestras/D)):\n",
    "        ECG_Diez_2[i] = ECG_Filt_2[i*D]"
   ]
  },
  {
   "cell_type": "code",
   "execution_count": 7,
   "metadata": {},
   "outputs": [],
   "source": [
    "#------Region de Trabajo-------\n",
    "c_muestras_zoom = i+1\n",
    "\n",
    "zoom_region     = np.arange(0, c_muestras_zoom , 1)\n",
    "ecg_zoom        = ECG_Diez_2\n",
    "t_zoom          = t[zoom_region]\n",
    " \n",
    "#------Estimacion de la Linea de Base-------\n",
    "_, baseline_BF = myF.medianaMovil( ecg_zoom, fs )"
   ]
  },
  {
   "cell_type": "code",
   "execution_count": 8,
   "metadata": {},
   "outputs": [
    {
     "data": {
      "image/png": "[encoded data removed]",
      "text/plain": [
       "<Figure size 432x288 with 1 Axes>"
      ]
     },
     "metadata": {},
     "output_type": "display_data"
    }
   ],
   "source": [
    "#------ Interpolacion -------\n",
    "n_new                   = np.arange( cant_muestras )\n",
    "\n",
    "ni                          = np.zeros( len(baseline_BF)+1 )\n",
    "ni[0:len(baseline_BF)]      = range(int(cant_muestras/D))\n",
    "ni[0:len(baseline_BF)]      = ni[0:len(baseline_BF)]*D\n",
    "ni[len(baseline_BF)]        = cant_muestras -1\n",
    "\n",
    "baseline_BF_aux                         = np.zeros( len(baseline_BF)+1 )\n",
    "baseline_BF_aux[0:len(baseline_BF)]     = baseline_BF\n",
    "\n",
    "f = interpol.interp1d( ni, baseline_BF_aux,       kind='cubic')\n",
    "baseline_AF = f(n_new)\n",
    "\n",
    "#------Diseño de Filtro-------\n",
    "wpb_p_3         = 0.2               #Hz\n",
    "wpb_s_3         = nyq_frec_3/D        #Hz\n",
    "cant_coef_3     = 151\n",
    "\n",
    "fir_coeff_pb_3 = myF.diseñoPB( fs, wpb_p_3, wpb_s_3, cant_coef_3)\n",
    "\n",
    "#------Primer Filtrado-------\n",
    "baseline = sig.lfilter(fir_coeff_pb_3, 1, baseline_AF)\n",
    "\n",
    "#------Sustracción de Linea de Base-------\n",
    "ecg_F = ecg_one_lead - baseline\n",
    "\n",
    "#------Ploteo de la Linea de Base-------\n",
    "plt.figure(10)\n",
    "\n",
    "plt.plot(t, ecg_one_lead,  label='ECG sin flitrar')\n",
    "plt.plot(t, ecg_F,     label='ECG flitrarado')\n",
    "plt.plot(t, baseline,  label='Baseline')\n",
    "plt.grid()\n",
    "plt.legend()\n",
    "\n",
    "plt.show()"
   ]
  },
  {
   "cell_type": "markdown",
   "metadata": {},
   "source": [
    "Como se puede notar la Baseline no fue estimada de la forma que se esperaba y la señal quedó practicamente de la misma forma luego del filtrado, esto se debe a que se redujo más de lo que se debía la frecuencia. En el siguiente notbook se buscará cual es la frecuencia de resampleo más apta, o entre que rangos se puede ubicar, para reducir el tiempo de procesamiento pero sin dejar de realizar un buen filtrado"
   ]
  }
 ],
 "metadata": {
  "kernelspec": {
   "display_name": "Python 3",
   "language": "python",
   "name": "python3"
  },
  "language_info": {
   "codemirror_mode": {
    "name": "ipython",
    "version": 3
   },
   "file_extension": ".py",
   "mimetype": "text/x-python",
   "name": "python",
   "nbconvert_exporter": "python",
   "pygments_lexer": "ipython3",
   "version": "3.6.6"
  }
 },
 "nbformat": 4,
 "nbformat_minor": 2
}
