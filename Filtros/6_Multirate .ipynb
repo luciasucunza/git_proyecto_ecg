{
 "cells": [
  {
   "cell_type": "markdown",
   "metadata": {},
   "source": [
    "# 6_Filtros: Multirate "
   ]
  },
  {
   "cell_type": "markdown",
   "metadata": {},
   "source": [
    "Para poder mejorar la velocidad de procesamiento y disminuir el costo computacional de realizar un filtrado mediante la sustracción de la linea de base estimada con el método de mediana móvil desarrollado en el script anterior se aplica la técnica de Multirate. Esta técnica consiste en resamplear la señal a una frecuencia menor, para la elección de esta frecuencia hay que tener en cuenta el rango de frecuencias en el que se encuentra la linea de base. Este rango se puede obtener por ejemplo del cálculo del espectro en frecuencia de la estimación realizada en el 4_. Vamos a elegir como nueva frecuencia 25Hz, ya que es un diezmado suficiente, podría ser menor pero así se logra una buena reducción del costo computacional a la hora de realizar el método de mediana móvil, sin acomplejar demasiado el procesamiento para llevar a cabo la técnica de Multirate y manteniendo una buena estimación de la señal.\n",
    "\n",
    "La frecuencia de muestreo de la señal que se utliza de ejemplo es 1000Hz, por lo tanto el factor diezmado es 40. Es aconsejable en los casos donde el factor de diezmado es mayor a 10 dividir el problema en etapas, por ejemplo un de 10 y una de 4, o una de 5 y otra de 8\n"
   ]
  },
  {
   "cell_type": "code",
   "execution_count": 19,
   "metadata": {},
   "outputs": [],
   "source": [
    "import warnings\n",
    "warnings.filterwarnings('ignore')\n",
    "\n",
    "import numpy as np\n",
    "import matplotlib.pyplot as plt\n",
    "import scipy.io as sio\n",
    "import scipy.signal as sig\n",
    "import scipy.interpolate as interpol\n",
    "\n",
    "\n",
    "mat_struct = sio.loadmat('/home/luciasucunza/git_proyecto_ecg/Filtros/TP4_ecg.mat')\n",
    "\n",
    "ecg_one_lead = mat_struct['ecg_lead']\n",
    "ecg_one_lead = ecg_one_lead.flatten(1)\n",
    "cant_muestras = len(ecg_one_lead)\n",
    "\n",
    "fs = 1000 \n",
    "nyq_frec = fs / 2\n",
    "t = np.arange(cant_muestras) / fs\n",
    "\n",
    "#------Parametros de Diezmado-------\n",
    "f_B         = 7\n",
    "\n",
    "fs_old_1    = fs\n",
    "fs_new_1    = 100\n",
    "nyq_frec_1  = fs_old_1/2\n",
    "\n",
    "fs_old_2    = fs_new_1\n",
    "fs_new_2    = 25\n",
    "nyq_frec_2  = fs_old_2/2\n",
    "\n",
    "fs_old_3    = fs_new_2\n",
    "fs_new_3    = fs_old_1\n",
    "nyq_frec_3  = fs_old_3/2\n",
    "\n",
    "\n",
    "D   = int(fs_old_1 / fs_new_2)\n",
    "D1  = int(fs_old_1 / fs_new_1)\n",
    "D2  = int(fs_old_2 / fs_new_2)"
   ]
  },
  {
   "cell_type": "code",
   "execution_count": 20,
   "metadata": {},
   "outputs": [],
   "source": [
    "#------Diseños de Filtros-------\n",
    "ripple = -0.05\n",
    "atenua = -40.\n",
    "\n",
    "#------LPF 10-------\n",
    "wpb_p_1         = f_B               #Hz\n",
    "wpb_s_1         = fs_new_1/2        #Hz\n",
    "cant_coef_1     = 151\n",
    "\n",
    "frecs_pb_1    = np.array([0.0,    wpb_p_1,  wpb_s_1,  nyq_frec ])\n",
    "gainsDB_pb_1  = np.array([ripple, ripple, atenua, atenua   ])\n",
    "gains_pb_1    = 10**(gainsDB_pb_1/20)\n",
    "\n",
    "fir_coeff_pb_1       = sig.firls( cant_coef_1, frecs_pb_1, gains_pb_1, fs=fs_old_1 )\n",
    "w_pb_1, hh_pb_1     = sig.freqz( fir_coeff_pb_1, 1 )\n",
    "w_pb_1              = w_pb_1 / np.pi * nyq_frec\n",
    "\n",
    "#------LPF 4-------\n",
    "wpb_p_2         = f_B           #Hz\n",
    "wpb_s_2         = fs_new_2/2    #Hz\n",
    "cant_coef_2     = 41\n",
    "\n",
    "frecs_pb_2    = np.array([0.0,    wpb_p_1,  wpb_s_1,  nyq_frec ])\n",
    "gainsDB_pb_2  = np.array([ripple, ripple, atenua, atenua   ])\n",
    "gains_pb_2    = 10**(gainsDB_pb_2/20)\n",
    "\n",
    "fir_coeff_pb_2      = sig.firls( cant_coef_2, frecs_pb_2, gains_pb_2, fs=fs_old_2)       \n",
    "w_pb_2, hh_pb_2     = sig.freqz( fir_coeff_pb_2, 1 )\n",
    "w_pb_2              = w_pb_1 / np.pi * nyq_frec"
   ]
  },
  {
   "cell_type": "code",
   "execution_count": 21,
   "metadata": {},
   "outputs": [],
   "source": [
    "#------Primer Filtrado-------\n",
    "ECG_Filt_1 = sig.lfilter(fir_coeff_pb_1, 1, ecg_one_lead)\n",
    "\n",
    "\n",
    "#%%\n",
    "#------LPF 10-------\n",
    "ECG_Diez_1 = np.zeros(int(cant_muestras/D1), dtype=float)\n",
    "\n",
    "for i in range(int(cant_muestras/D1)) :\n",
    "        ECG_Diez_1[i] = ECG_Filt_1[i*D1]\n",
    " \n",
    "    \n",
    "#%%\n",
    "#------Segundo Filtrado-------\n",
    "ECG_Filt_2 = sig.lfilter(fir_coeff_pb_2, 1, ECG_Filt_1)\n",
    "\n",
    "\n",
    "#%%\n",
    "#------LPF 4-------\n",
    "ECG_Diez_2 = np.zeros(int(cant_muestras/D), dtype=float)\n",
    "\n",
    "for i in range(int(cant_muestras/D)):\n",
    "        ECG_Diez_2[i] = ECG_Filt_2[i*D]"
   ]
  },
  {
   "cell_type": "code",
   "execution_count": 22,
   "metadata": {},
   "outputs": [],
   "source": [
    "#------Region de Trabajo-------\n",
    "c_muestras_zoom = i+1\n",
    "\n",
    "zoom_region     = np.arange(0, c_muestras_zoom , 1)\n",
    "ecg_zoom        = ECG_Diez_2\n",
    "t_zoom          = t[zoom_region]\n",
    " \n",
    "#------Estimacion de la Linea de Base-------\n",
    "baseline_BF = sig.medfilt (ecg_zoom, kernel_size = int (np.around(fs*0.5*0.2)    *2 +1  ))\n",
    "baseline_BF = sig.medfilt (baseline_BF, kernel_size = int (np.around(fs*0.5*0.6)    *2 +1  )) \n",
    "baseline_BF = sig.medfilt (baseline_BF, kernel_size = int (np.around(fs*0.5*(1/50)) *2 +1  ))\n"
   ]
  },
  {
   "cell_type": "code",
   "execution_count": 23,
   "metadata": {},
   "outputs": [
    {
     "data": {
      "image/png": "[encoded data removed]",
      "text/plain": [
       "<Figure size 432x288 with 1 Axes>"
      ]
     },
     "metadata": {},
     "output_type": "display_data"
    }
   ],
   "source": [
    "#------ Interpolacion -------\n",
    "n_new                   = np.arange( cant_muestras )\n",
    "\n",
    "ni                          = np.zeros( len(baseline_BF)+1 )\n",
    "ni[0:len(baseline_BF)]      = range(int(cant_muestras/D))\n",
    "ni[0:len(baseline_BF)]      = ni[0:len(baseline_BF)]*D\n",
    "ni[len(baseline_BF)]        = cant_muestras -1\n",
    "\n",
    "baseline_BF_aux                         = np.zeros( len(baseline_BF)+1 )\n",
    "baseline_BF_aux[0:len(baseline_BF)]     = baseline_BF\n",
    "\n",
    "f = interpol.interp1d( ni, baseline_BF_aux,       kind='cubic')\n",
    "baseline_AF = f(n_new)\n",
    "\n",
    "#------Diseño de Filtro-------\n",
    "ripple = -0.05\n",
    "atenua = -40.\n",
    "\n",
    "#------LPF 10-------\n",
    "wpb_p_3         = 0.2               #Hz\n",
    "wpb_s_3         = nyq_frec_3/D        #Hz\n",
    "cant_coef_3     = 151\n",
    "\n",
    "frecs_pb_3    = np.array([0.0,    wpb_p_3,  wpb_s_3,  nyq_frec_3 ])\n",
    "gainsDB_pb_3  = np.array([ripple, ripple, atenua, atenua   ])\n",
    "gains_pb_3    = 10**(gainsDB_pb_3/20)\n",
    "\n",
    "fir_coeff_pb_3       = sig.firls( cant_coef_3, frecs_pb_3, gains_pb_3, fs=fs_old_3 )\n",
    "w_pb_3, hh_pb_3      = sig.freqz( fir_coeff_pb_3, 1 )\n",
    "w_pb_3               = w_pb_3 / np.pi * nyq_frec\n",
    "\n",
    "#------Primer Filtrado-------\n",
    "baseline = sig.lfilter(fir_coeff_pb_3, 1, baseline_AF)\n",
    "\n",
    "#------Sustracción de Linea de Base-------\n",
    "ecg_F = ecg_one_lead - baseline\n",
    "\n",
    "#------Ploteo de la Linea de Base-------\n",
    "plt.figure(10)\n",
    "\n",
    "plt.plot(t, ecg_one_lead,  label='ECG sin flitrar')\n",
    "plt.plot(t, ecg_F,     label='ECG flitrarado')\n",
    "plt.plot(t, baseline,  label='Baseline')\n",
    "plt.grid()\n",
    "plt.legend()\n",
    "\n",
    "plt.show()"
   ]
  },
  {
   "cell_type": "markdown",
   "metadata": {},
   "source": [
    "Como se puede notar la Baseline no fue estimada de la forma que se esperaba, esto se debe a que se redujo más de lo que se debía la frecuencia. En el siguiente notbook se buscará cual es la frecuencia de resampleo más apta, o entre que rangos se puede ubicar, para reducir el tiempo de procesamiento pero sin dejar de realizar un buen filtrado"
   ]
  }
 ],
 "metadata": {
  "kernelspec": {
   "display_name": "Python 3",
   "language": "python",
   "name": "python3"
  },
  "language_info": {
   "codemirror_mode": {
    "name": "ipython",
    "version": 3
   },
   "file_extension": ".py",
   "mimetype": "text/x-python",
   "name": "python",
   "nbconvert_exporter": "python",
   "pygments_lexer": "ipython3",
   "version": "3.6.6"
  }
 },
 "nbformat": 4,
 "nbformat_minor": 2
}
