{
 "cells": [
  {
   "cell_type": "markdown",
   "metadata": {},
   "source": [
    "# 1_Filtros: Introducción (Ejemplo Modificado)"
   ]
  },
  {
   "cell_type": "markdown",
   "metadata": {},
   "source": [
    "...inreoduccion\n",
    "\n",
    "Como primer paso dentro del filtrado de señales de ECG utilicé como modelo el script de http://nbviewer.jupyter.org/github/marianux/jupytest/blob/master/Filtrado%20digital.%20Aplicaciones%20electrocardiograf%C3%ADa.ipynb pero con señales del mit\n",
    "\n",
    "Los filtros que se desarrollan son pasa banda\n",
    "\n",
    "...."
   ]
  },
  {
   "cell_type": "markdown",
   "metadata": {},
   "source": [
    "Primero se importan las librerías y se abre la señal"
   ]
  },
  {
   "cell_type": "code",
   "execution_count": null,
   "metadata": {},
   "outputs": [],
   "source": [
    "import wfdb\n",
    "import matplotlib.pyplot as plt\n",
    "import numpy as np\n",
    "import scipy.signal as sig\n",
    "\n",
    "n = 10500\n",
    "signals, fields = wfdb.io.rdsamp('101', pb_dir='mitdb',sampfrom = 0, sampto = n)\n",
    "\n",
    "ecg_one_lead = signals[:,0]\n",
    "fs = fields.get('fs')\n",
    "nyq_frec = fs / 2"
   ]
  },
  {
   "cell_type": "markdown",
   "metadata": {},
   "source": [
    " Primero se realiza la elección de los parametros de atenuacion, ripple y las frecuencias de paso y stop"
   ]
  },
  {
   "cell_type": "code",
   "execution_count": null,
   "metadata": {},
   "outputs": [],
   "source": [
    "ripple = 0.5\n",
    "atenuacion = 40.\n",
    "\n",
    "ws1 = 1.0           \n",
    "wp1 = 4.0           \n",
    "wp2 = 15.0          \n",
    "ws2 = 35.0          \n",
    "\n",
    "frecs = np.array([0.0,         ws1,         wp1,     wp2,     ws2,         nyq_frec   ]) / nyq_frec\n",
    "gains = np.array([-atenuacion, -atenuacion, -ripple, -ripple, -atenuacion, -atenuacion])\n",
    "gains = 10**(gains/20)\n",
    "\n",
    "\n",
    "#Devuelvue los parametros del filtro según el tipo que quiero, las frecuencias, las atenuaciones\n",
    "bp_sos_butter = sig.iirdesign(wp=np.array([wp1, wp2]) / nyq_frec, ws=np.array([ws1, ws2]) / nyq_frec, gpass=ripple, gstop=atenuacion, analog=False, ftype='butter', output='sos')\n",
    "bp_sos_cheby = sig.iirdesign(wp=np.array([wp1, wp2]) / nyq_frec, ws=np.array([ws1, ws2]) / nyq_frec, gpass=ripple, gstop=atenuacion, analog=False, ftype='cheby1', output='sos')\n",
    "bp_sos_cauer = sig.iirdesign(wp=np.array([wp1, wp2]) / nyq_frec, ws=np.array([ws1, ws2]) / nyq_frec, gpass=ripple, gstop=atenuacion, analog=False, ftype='ellip', output='sos')\n",
    "bp_sos_cheby2 = sig.iirdesign(wp=np.array([wp1, wp2]) / nyq_frec, ws=np.array([ws1, ws2]) / nyq_frec, gpass=ripple, gstop=atenuacion, analog=False, ftype='cheby2', output='sos')\n",
    "\n",
    "cant_coef = 501\n",
    "den = 1.0\n",
    "num_win =   sig.firwin2(cant_coef, frecs, gains , window='blackmanharris' )"
   ]
  },
  {
   "cell_type": "markdown",
   "metadata": {},
   "source": []
  },
  {
   "cell_type": "code",
   "execution_count": null,
   "metadata": {},
   "outputs": [],
   "source": [
    "# el _ es porque todo devuelve lo mismo,no?\n",
    "# Devuelve un vector de frecuencias y un vector con sus respuestas\n",
    "w, h_butter = sig.sosfreqz(bp_sos_butter)\n",
    "_, h_cheby = sig.sosfreqz(bp_sos_cheby)\n",
    "_, h_cauer = sig.sosfreqz(bp_sos_cauer)\n",
    "_, h_cheby2 = sig.sosfreqz(bp_sos_cheby2)\n",
    "#_, h_bessel = sig.sosfreqz(bp_sos_bessel)\n",
    "_, hh_win = sig.freqz(num_win, den)\n",
    "\n",
    "w = w / np.pi * nyq_frec"
   ]
  },
  {
   "cell_type": "markdown",
   "metadata": {},
   "source": []
  },
  {
   "cell_type": "code",
   "execution_count": null,
   "metadata": {},
   "outputs": [],
   "source": [
    "plt.figure(1)\n",
    "plt.plot(w, 20*np.log10(np.abs(h_butter)),  label='IIR-Butter' )\n",
    "plt.plot(w, 20*np.log10(np.abs(h_cheby)),   label='IIR-Cheby' )\n",
    "plt.plot(w, 20*np.log10(np.abs(h_cauer)),   label='IIR-Cauer' )\n",
    "plt.plot(w, 20*np.log10(np.abs(h_cheby2)),  label='IIR-Cheby2' )\n",
    "#plt.plot(w, 20*np.log10(np.abs(h_bessel)),  label='IIR-Bessel' )\n",
    "plt.plot(w, 20 * np.log10(abs(hh_win)),     label='FIR-Win')\n",
    "plt.plot(frecs * nyq_frec, 20*np.log10(gains), 'rx', label='plantilla' )\n",
    "\n",
    "plt.title('FIR diseñado por métodos directos')\n",
    "plt.xlabel('Frequencia [Hz]')\n",
    "plt.ylabel('Modulo [dB]')\n",
    "plt.axis([0, nyq_frec, -60, 5 ])\n",
    "\n",
    "plt.grid()\n",
    "plt.show()"
   ]
  },
  {
   "cell_type": "markdown",
   "metadata": {},
   "source": []
  },
  {
   "cell_type": "code",
   "execution_count": null,
   "metadata": {},
   "outputs": [],
   "source": [
    "#si aca utilizace el comando sosfilt me lo haría lineal\n",
    "#This function applies a linear digital filter twice\n",
    "ECG_f_butt = sig.sosfiltfilt(bp_sos_butter, ecg_one_lead)\n",
    "ECG_f_cheb = sig.sosfiltfilt(bp_sos_cheby, ecg_one_lead)\n",
    "ECG_f_cauer = sig.sosfiltfilt(bp_sos_cauer, ecg_one_lead)\n",
    "ECG_f_cheby2 = sig.sosfiltfilt(bp_sos_cheby2, ecg_one_lead)\n",
    "#ECG_f_bessel = sig.sosfiltfilt(bp_sos_bessel, ecg_one_lead)\n",
    "\n",
    "ECG_f_win = sig.filtfilt(num_win, den, ecg_one_lead)\n",
    "\n",
    "plt.figure(2)\n",
    "plt.plot( ecg_one_lead,   label='ECG', lw=2)\n",
    "plt.plot( ECG_f_butt,     label='Butter')\n",
    "plt.plot( ECG_f_cheb,     label='Cheby')\n",
    "plt.plot( ECG_f_cauer,    label='Cauer')\n",
    "plt.plot( ECG_f_cheby2,   label='Cheby2')\n",
    "#plt.plot( ECG_f_bessel,   label='Bessel')\n",
    "plt.plot( ECG_f_win,      label='Win')\n",
    "\n",
    "ii = [0,n]\n",
    "plt.title('ECG filtering example from ' + str(ii[0]) + ' to ' + str(ii[1]) )\n",
    "plt.ylabel('Adimensional')\n",
    "plt.xlabel('Muestras (#)')\n",
    "\n",
    "axes_hdl = plt.gca()\n",
    "axes_hdl.legend()\n",
    "axes_hdl.set_yticks(())\n",
    "\n",
    "plt.show()"
   ]
  },
  {
   "cell_type": "markdown",
   "metadata": {},
   "source": []
  },
  {
   "cell_type": "code",
   "execution_count": null,
   "metadata": {},
   "outputs": [],
   "source": [
    "#------CALCULO DE LA FFT -------\n",
    "resf = fs/n                                 \n",
    "rangof = np.arange( 0, 360 , resf)         \n",
    "\n",
    "FFT_ecg_one_lead = np.fft.fft( ecg_one_lead )\n",
    "FFT_ECG_f_butt = np.fft.fft( ECG_f_butt )  \n",
    "FFT_ECG_f_cheb = np.fft.fft( ECG_f_cheb )  \n",
    "FFT_ECG_f_cauer = np.fft.fft( ECG_f_cauer )   \n",
    "FFT_ECG_f_cheby2 = np.fft.fft( ECG_f_cheby2 )  \n",
    "FFT_ECG_f_win = np.fft.fft( ECG_f_win )              \n",
    "\n",
    "rangof = rangof[range(n//2)]     \n",
    "\n",
    "FFT_ecg_one_lead = abs(FFT_ecg_one_lead[range(n//2)] ) / (n//2)    \n",
    "FFT_ECG_f_butt   = abs(FFT_ECG_f_butt[range(n//2)]   ) / (n//2)  \n",
    "FFT_ECG_f_cheb   = abs(FFT_ECG_f_cheb[range(n//2)]   ) / (n//2)  \n",
    "FFT_ECG_f_cauer  = abs(FFT_ECG_f_cauer[range(n//2)]  ) / (n//2)  \n",
    "FFT_ECG_f_cheby2 = abs(FFT_ECG_f_cheby2[range(n//2)]  ) / (n//2)  \n",
    "FFT_ECG_f_win    = abs(FFT_ECG_f_win[range(n//2)]    ) / (n//2)  "
   ]
  },
  {
   "cell_type": "markdown",
   "metadata": {},
   "source": []
  },
  {
   "cell_type": "code",
   "execution_count": null,
   "metadata": {},
   "outputs": [],
   "source": [
    "#-------Ploteo DE LA FFT --------         \n",
    "\n",
    "plt.figure(3)\n",
    "plt.plot( rangof, FFT_ecg_one_lead,   label='ECG', lw=2)\n",
    "plt.plot( rangof, FFT_ECG_f_butt,     label='Butter')\n",
    "plt.plot( rangof, FFT_ECG_f_cheb,     label='Cheby')\n",
    "plt.plot( rangof, FFT_ECG_f_cauer,    label='Cauer')\n",
    "plt.plot( rangof, FFT_ECG_f_cheby2,   label='Cheby2')\n",
    "plt.plot( rangof, FFT_ECG_f_win,      label='Win')\n",
    "\n",
    "ii = [0,n]\n",
    "plt.ylabel('Adimensional')\n",
    "plt.xlabel('Frequencia [Hz]')\n",
    "\n",
    "axes_hdl = plt.gca()\n",
    "axes_hdl.legend()\n",
    "axes_hdl.set_yticks(())\n",
    "\n",
    "\n",
    "plt.show()"
   ]
  },
  {
   "cell_type": "markdown",
   "metadata": {},
   "source": []
  }
 ],
 "metadata": {
  "kernelspec": {
   "display_name": "Python 3",
   "language": "python",
   "name": "python3"
  },
  "language_info": {
   "codemirror_mode": {
    "name": "ipython",
    "version": 3
   },
   "file_extension": ".py",
   "mimetype": "text/x-python",
   "name": "python",
   "nbconvert_exporter": "python",
   "pygments_lexer": "ipython3",
   "version": "3.6.6"
  }
 },
 "nbformat": 4,
 "nbformat_minor": 2
}
