{
 "cells": [
  {
   "cell_type": "code",
   "execution_count": null,
   "metadata": {},
   "outputs": [],
   "source": [
    "import wfdb\n",
    "import matplotlib.pyplot as plt\n",
    "import numpy as np"
   ]
  },
  {
   "cell_type": "markdown",
   "metadata": {},
   "source": [
    "Apertura de la señales y sus antonaciónes. Utilizando dos funciones distintas, ya sea por señales descargadas o directamente desde la pagina y una cantidad determinada de muestras"
   ]
  },
  {
   "cell_type": "code",
   "execution_count": null,
   "metadata": {},
   "outputs": [],
   "source": [
    "signals1, fields1 = wfdb.io.rdsamp('101', pb_dir='mitdb',           sampfrom = 0, sampto = 20)\n",
    "annS1 = wfdb.rdann('/home/slucia/Documentos/Se/101', 'atr',         sampfrom = 0, sampto = 20)\n",
    "\n",
    "signals2, fields2 = wfdb.io.rdsamp('/home/slucia/Documentos/Se/201',sampfrom = 0, sampto = 50)\n",
    "annS2 = wfdb.rdann('/home/slucia/Documentos/Se/201', 'atr',         sampfrom = 0, sampto = 50)\n",
    "\n",
    "record1 = wfdb.io.rdrecord('/home/slucia/Documentos/Se/101',        sampfrom = 0, sampto = 30)\n",
    "annR1 = wfdb.rdann('/home/slucia/Documentos/Se/101', 'atr',         sampfrom = 0, sampto = 30)\n",
    "\n",
    "record2 = wfdb.io.rdrecord('/home/slucia/Documentos/Se/201',        sampfrom = 0, sampto = 70)\n",
    "annR2 = wfdb.rdann('/home/slucia/Documentos/Se/201', 'atr',         sampfrom = 0, sampto = 70)"
   ]
  },
  {
   "cell_type": "markdown",
   "metadata": {},
   "source": [
    "Ploteo de las señales y sus antoncaciones"
   ]
  },
  {
   "cell_type": "code",
   "execution_count": null,
   "metadata": {},
   "outputs": [],
   "source": [
    "plt.figure(2)\n",
    "\n",
    "plt.subplot(211)\n",
    "t1 = np.arange( 0, 20, 1 )\n",
    "plt.plot( t1, signals1[:,0],  label='Señal')\n",
    "plt.plot(annS1.sample, signals1[annS1.sample,0], 'ro',label='Anotaciones', )\n",
    "plt.ylabel('Señal101')\n",
    "plt.grid(True)\n",
    "plt.legend()\n",
    "\n",
    "plt.subplot(212)\n",
    "t2 = np.arange( 0, 50, 1 )\n",
    "plt.plot( t2, signals2[:,0],  label='Señal')\n",
    "plt.plot(annS2.sample, signals2[annS2.sample,0], 'ro',label='Anotaciones', )\n",
    "plt.ylabel('Señal 201')\n",
    "plt.grid(True)\n",
    "plt.legend()\n",
    "\n",
    "\n",
    "plt.xlabel('$Muestras$')\n",
    "plt.show()\n"
   ]
  },
  {
   "cell_type": "code",
   "execution_count": null,
   "metadata": {},
   "outputs": [],
   "source": [
    "plt.figure(3)\n",
    "\n",
    "plt.subplot(211)\n",
    "t1 = np.arange( 0, 30, 1 )\n",
    "plt.plot( t1, record1.p_signal[:,0],  label='Señal')\n",
    "plt.plot(annR1.sample, record1.p_signal[annR1.sample,0], 'ro',label='Anotaciones', )\n",
    "plt.ylabel('Señal101')\n",
    "plt.grid(True)\n",
    "plt.legend()\n",
    "\n",
    "plt.subplot(212)\n",
    "t2 = np.arange( 0, 70, 1 )\n",
    "plt.plot( t2, record2.p_signal[:,0],  label='Señal')\n",
    "plt.plot(annR2.sample, record2.p_signal[annR2.sample,0], 'ro',label='Anotaciones', )\n",
    "plt.ylabel('Señal 201')\n",
    "plt.grid(True)\n",
    "plt.legend()\n",
    "\n",
    "\n",
    "plt.xlabel('$Muestras$')\n",
    "plt.show()"
   ]
  },
  {
   "cell_type": "code",
   "execution_count": null,
   "metadata": {},
   "outputs": [],
   "source": [
    "plt.figure(4)\n",
    "\n",
    "plt.subplot(211)\n",
    "t1 = np.arange( 0, 20, 1 )\n",
    "plt.plot( t1, signals1[:,1],  label='Señal')\n",
    "plt.plot(annS1.sample, signals1[annS1.sample,1], 'ro',label='Anotaciones', )\n",
    "plt.ylabel('Señal101b')\n",
    "plt.grid(True)\n",
    "plt.legend()\n",
    "\n",
    "plt.subplot(212)\n",
    "t2 = np.arange( 0, 50, 1 )\n",
    "plt.plot( t2, signals2[:,1],  label='Señal')\n",
    "plt.plot(annS2.sample, signals2[annS2.sample,1], 'ro',label='Anotaciones', )\n",
    "plt.ylabel('Señal 201b')\n",
    "plt.grid(True)\n",
    "plt.legend()\n",
    "\n",
    "\n",
    "plt.xlabel('$Muestras$')\n",
    "plt.show()"
   ]
  }
 ],
 "metadata": {
  "kernelspec": {
   "display_name": "Python 3",
   "language": "python",
   "name": "python3"
  },
  "language_info": {
   "codemirror_mode": {
    "name": "ipython",
    "version": 3
   },
   "file_extension": ".py",
   "mimetype": "text/x-python",
   "name": "python",
   "nbconvert_exporter": "python",
   "pygments_lexer": "ipython3",
   "version": "3.6.5"
  }
 },
 "nbformat": 4,
 "nbformat_minor": 2
}
