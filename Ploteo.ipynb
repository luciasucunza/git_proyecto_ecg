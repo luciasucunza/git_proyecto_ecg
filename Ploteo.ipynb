{
 "cells": [
  {
   "cell_type": "markdown",
   "metadata": {},
   "source": [
    "# 1_Libreria WFDB: Apertura y Ploteo "
   ]
  },
  {
   "cell_type": "markdown",
   "metadata": {},
   "source": [
    "Con el fin de lograr trabajar con bases de datos de registros de ECG (la MIT-BIH Arrhythmia Database, la AHA Database para Evaluación de detectores de arritmia ventricular y la European ST-T Database), es decir poder leer, escribir y graficar estas señales, se creó la librería WFDB.\n",
    "\n",
    "Basándose en esto se a desarrollado para Python una librería que permite la lectura y el procesamiento tanto de las señales como de las anotaciones de WFDB (https://github.com/MIT-LCP/wfdb-python). En este primer programa se utilizarán las distintas funciones de apertura provistas\n",
    "\n",
    "Nota: Los registros utilizados en este proyecto se encuentran en la base de datos de arritmias MIT-BIH, que se distribuye desde 1980. Esta base esta conformada por 48 extractos de media hora de registros de ECG de dos canales, obtenidos de diferentes sujetos, y su respectivas anotaciones generadas por médicos cardiólogos (http://physionet.org/physiobank/database/mitdb/)"
   ]
  },
  {
   "cell_type": "code",
   "execution_count": null,
   "metadata": {},
   "outputs": [],
   "source": [
    "import wfdb\n",
    "import matplotlib.pyplot as plt\n",
    "import numpy as np"
   ]
  },
  {
   "cell_type": "markdown",
   "metadata": {},
   "source": [
    "La libreria provee dos funciones para la lectura de la señal: rdsamp y rdrecord\n",
    "\n",
    "La primera devuelve dos campos, el primero es una matriz cuyo contenido es el valor de la señal muestreada en cada punto, para dos canales diferentes. El segundo parametro es un dato del tipo diccionario que contiene diferentes parametros, como la frecuencia de muestreo, la cantidad de señales, la especificación del canal, datos sobre el sujeto, etc. La funcion rdrecord nos devuelve instancia del objeto record, con sus atributos, los valores de la señal y sus parametros.\n",
    "\n",
    "Ambas funciones pueden trabajar ya sea con señales previamente descargadas o directamente desde la base de datos online, si se tiene conexión a  internet. Además puede especificarse el canal que quiero obtener y el numero de muestra por el que quiero comenzar y/o finalizar a leer.\n",
    "\n",
    "De manera similar se realiza la lectura de las anotaciones, la funcion rdann devuelve un objeto Annotation y recibe puede recibir estos mismos parametros."
   ]
  },
  {
   "cell_type": "code",
   "execution_count": null,
   "metadata": {},
   "outputs": [],
   "source": [
    "signals1, fields1 = wfdb.io.rdsamp('101', pb_dir='mitdb',           sampfrom = 0, sampto = 20)\n",
    "annS1 = wfdb.rdann('101', pb_dir='mitdb',extension='atr',           sampfrom = 0, sampto = 20)\n",
    "\n",
    "signals2, fields2 = wfdb.io.rdsamp('/home/slucia/Documentos/Se/201',sampfrom = 0, sampto = 50)\n",
    "annS2 = wfdb.rdann('/home/slucia/Documentos/Se/201', 'atr',         sampfrom = 0, sampto = 50)\n",
    "\n",
    "record1 = wfdb.io.rdrecord('/home/slucia/Documentos/Se/101',        sampfrom = 0, sampto = 30)\n",
    "annS1 = wfdb.rdann('101', pb_dir='mitdb',extension='atr',           sampfrom = 0, sampto = 30)\n",
    "\n",
    "record2 = wfdb.io.rdrecord('/home/slucia/Documentos/Se/201',        sampfrom = 0, sampto = 70)\n",
    "annR2 = wfdb.rdann('/home/slucia/Documentos/Se/201', 'atr',         sampfrom = 0, sampto = 70)"
   ]
  },
  {
   "cell_type": "markdown",
   "metadata": {},
   "source": [
    "Para realizar el ploteo de las señales y sus anotaciones se puede utilizar la librería matplotlib, esta permite agregar etiquetas o títulos, colocar una grilla, realizar más de un gráfico en una misma ventana, superponer, entre otras funciones\n",
    "\n",
    "A continuación se muestra el ploteo de las señales cuya apertura se llevo a cabo con la función rdsamp, y sus anotaciones. Luego se realiza el ploteo de las leídas mediante el comando rdrecord y sus anotaciones"
   ]
  },
  {
   "cell_type": "code",
   "execution_count": null,
   "metadata": {},
   "outputs": [],
   "source": [
    "plt.figure(2)\n",
    "\n",
    "plt.subplot(211)\n",
    "t1 = np.arange( 0, 20, 1 )\n",
    "plt.plot( t1, signals1[:,0],  label='Señal')\n",
    "plt.plot(annS1.sample, signals1[annS1.sample,0], 'ro',label='Anotaciones', )\n",
    "plt.ylabel('Señal101')\n",
    "plt.grid(True)\n",
    "plt.legend()\n",
    "\n",
    "plt.subplot(212)\n",
    "t2 = np.arange( 0, 50, 1 )\n",
    "plt.plot( t2, signals2[:,0],  label='Señal')\n",
    "plt.plot(annS2.sample, signals2[annS2.sample,0], 'ro',label='Anotaciones', )\n",
    "plt.ylabel('Señal 201')\n",
    "plt.grid(True)\n",
    "plt.legend()\n",
    "\n",
    "\n",
    "plt.xlabel('$Muestras$')\n",
    "plt.show()\n"
   ]
  },
  {
   "cell_type": "code",
   "execution_count": null,
   "metadata": {},
   "outputs": [],
   "source": [
    "plt.figure(3)\n",
    "\n",
    "plt.subplot(211)\n",
    "t1 = np.arange( 0, 30, 1 )\n",
    "plt.plot( t1, record1.p_signal[:,0],  label='Señal')\n",
    "plt.plot(annR1.sample, record1.p_signal[annR1.sample,0], 'ro',label='Anotaciones', )\n",
    "plt.ylabel('Señal101')\n",
    "plt.grid(True)\n",
    "plt.legend()\n",
    "\n",
    "plt.subplot(212)\n",
    "t2 = np.arange( 0, 70, 1 )\n",
    "plt.plot( t2, record2.p_signal[:,0],  label='Señal')\n",
    "plt.plot(annR2.sample, record2.p_signal[annR2.sample,0], 'ro',label='Anotaciones', )\n",
    "plt.ylabel('Señal 201')\n",
    "plt.grid(True)\n",
    "plt.legend()\n",
    "\n",
    "\n",
    "plt.xlabel('$Muestras$')\n",
    "plt.show()"
   ]
  },
  {
   "cell_type": "code",
   "execution_count": null,
   "metadata": {},
   "outputs": [],
   "source": [
    "plt.figure(4)\n",
    "\n",
    "plt.subplot(211)\n",
    "t1 = np.arange( 0, 20, 1 )\n",
    "plt.plot( t1, signals1[:,1],  label='Señal')\n",
    "plt.plot(annS1.sample, signals1[annS1.sample,1], 'ro',label='Anotaciones', )\n",
    "plt.ylabel('Señal101b')\n",
    "plt.grid(True)\n",
    "plt.legend()\n",
    "\n",
    "plt.subplot(212)\n",
    "t2 = np.arange( 0, 50, 1 )\n",
    "plt.plot( t2, signals2[:,1],  label='Señal')\n",
    "plt.plot(annS2.sample, signals2[annS2.sample,1], 'ro',label='Anotaciones', )\n",
    "plt.ylabel('Señal 201b')\n",
    "plt.grid(True)\n",
    "plt.legend()\n",
    "\n",
    "\n",
    "plt.xlabel('$Muestras$')\n",
    "plt.show()"
   ]
  },
  {
   "cell_type": "markdown",
   "metadata": {},
   "source": [
    "Debido a la sencillez y practicidad de los parámetros que devuelve la función rdsamp he decidido usar esta función en los siguientes ejemplos "
   ]
  }
 ],
 "metadata": {
  "kernelspec": {
   "display_name": "Python 3",
   "language": "python",
   "name": "python3"
  },
  "language_info": {
   "codemirror_mode": {
    "name": "ipython",
    "version": 3
   },
   "file_extension": ".py",
   "mimetype": "text/x-python",
   "name": "python",
   "nbconvert_exporter": "python",
   "pygments_lexer": "ipython3",
   "version": "3.6.5"
  }
 },
 "nbformat": 4,
 "nbformat_minor": 2
}
