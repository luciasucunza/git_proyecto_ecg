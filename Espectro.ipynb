{
 "cells": [
  {
   "cell_type": "code",
   "execution_count": null,
   "metadata": {},
   "outputs": [],
   "source": [
    "import wfdb\n",
    "import matplotlib.pyplot as plt\n",
    "import numpy as np"
   ]
  },
  {
   "cell_type": "markdown",
   "metadata": {},
   "source": [
    "Establezco la cantidad y el rango de muestras"
   ]
  },
  {
   "cell_type": "code",
   "execution_count": null,
   "metadata": {},
   "outputs": [],
   "source": [
    "n = 60000\n",
    "t = np.arange( 0, n, 1 )"
   ]
  },
  {
   "cell_type": "markdown",
   "metadata": {},
   "source": [
    "Apertura de la señal y de las anotaciones"
   ]
  },
  {
   "cell_type": "code",
   "execution_count": null,
   "metadata": {},
   "outputs": [],
   "source": [
    "signal, fields = wfdb.io.rdsamp('/home/slucia/Documentos/Se/117',   sampto = n)\n",
    "ann = wfdb.rdann('/home/slucia/Documentos/Se/100', 'atr',           sampto = n)"
   ]
  },
  {
   "cell_type": "markdown",
   "metadata": {},
   "source": [
    "Realizo el calculo de la fft"
   ]
  },
  {
   "cell_type": "code",
   "execution_count": null,
   "metadata": {},
   "outputs": [],
   "source": [
    "T = n/fields.get('fs')                      #tiempo tomado de la señal\n",
    "frq = t/T                                   #rango de frecuencias\n",
    "\n",
    "Y = np.fft.fft( signal[:,0] )              #fft normalizada\n",
    "frq = frq[range(n//2)]                     #porque es simetrico\n",
    "Y = Y[range(n//2)]    \n",
    "Ynorm = abs(Y)/n                           #Modulo de la fft normalizada"
   ]
  },
  {
   "cell_type": "markdown",
   "metadata": {},
   "source": [
    "Grafica de señal, anotaciones y modulo del espectro"
   ]
  },
  {
   "cell_type": "code",
   "execution_count": null,
   "metadata": {},
   "outputs": [],
   "source": [
    "plt.figure(1)\n",
    "plt.subplot(211)\n",
    "plt.plot( t, signal[:,0], 'b', label='Señal')\n",
    "plt.plot( ann.sample, signal[ann.sample,0], 'ro',label='Anotaciones', )\n",
    "plt.legend()\n",
    "plt.title( 'Señal' )\n",
    "plt.grid( True )\n",
    "plt.xlim( -1, 1600 )\n",
    "\n",
    "plt.subplot(212)\n",
    "plt.plot( frq, Ynorm , 'g' )\n",
    "plt.title( 'Espectro Normalizado' )\n",
    "plt.grid(True)\n",
    "plt.xlim( -0.2, 70 )\n",
    "plt.ylim( 0, 0.05)\n",
    "\n",
    "plt.show()  "
   ]
  },
  {
   "cell_type": "markdown",
   "metadata": {},
   "source": [
    "Grafica de la parte real e imaginaria del espectro"
   ]
  },
  {
   "cell_type": "code",
   "execution_count": null,
   "metadata": {},
   "outputs": [],
   "source": [
    "plt.figure(2)\n",
    "plt.subplot(211)\n",
    "plt.plot( frq, Y.real, 'g' )\n",
    "plt.title( 'Parte Real' )\n",
    "plt.grid(True)\n",
    "plt.xlim( -1, 70 )\n",
    "\n",
    "plt.subplot(212)\n",
    "plt.plot( frq, Y.imag, 'g' )           \n",
    "plt.title( 'Parte Imaginaria' )\n",
    "plt.grid(True)\n",
    "plt.xlim( -1, 70 )\n",
    "\n",
    "plt.show()"
   ]
  },
  {
   "cell_type": "markdown",
   "metadata": {},
   "source": [
    "Grafica del modulo y fase del espectro"
   ]
  },
  {
   "cell_type": "code",
   "execution_count": null,
   "metadata": {},
   "outputs": [],
   "source": [
    "plt.figure(3)\n",
    "plt.subplot(211)\n",
    "plt.plot( frq, abs(Y), 'g' )               \n",
    "plt.title( 'Modulo Sin Normalizar' )\n",
    "plt.grid(True)\n",
    "plt.xlim( -1, 70 )\n",
    "\n",
    "plt.subplot(212)\n",
    "plt.plot( frq, np.arctan(Y.imag/Y.real), 'g' )\n",
    "plt.title( 'Fase' )\n",
    "plt.grid(True)\n",
    "plt.xlim( -1, 70 )\n",
    "\n",
    "plt.show()"
   ]
  }
 ],
 "metadata": {
  "kernelspec": {
   "display_name": "Python 3",
   "language": "python",
   "name": "python3"
  },
  "language_info": {
   "codemirror_mode": {
    "name": "ipython",
    "version": 3
   },
   "file_extension": ".py",
   "mimetype": "text/x-python",
   "name": "python",
   "nbconvert_exporter": "python",
   "pygments_lexer": "ipython3",
   "version": "3.6.5"
  }
 },
 "nbformat": 4,
 "nbformat_minor": 2
}
